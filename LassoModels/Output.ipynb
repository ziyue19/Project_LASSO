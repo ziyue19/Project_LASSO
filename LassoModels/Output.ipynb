{
 "cells": [
  {
   "cell_type": "code",
   "execution_count": 2,
   "metadata": {},
   "outputs": [],
   "source": [
    "import os\n",
    "import pandas as pd\n",
    "import numpy as np\n",
    "import matplotlib.pyplot as plt "
   ]
  },
  {
   "cell_type": "code",
   "execution_count": 5,
   "metadata": {},
   "outputs": [],
   "source": [
    "dfPA = pd.read_csv('/Users/zy/Desktop/lasso+l0_abrasion_FV/groupA.csv',usecols=[\"WL(g)\"])\n",
    "df_preA1=pd.read_excel('/Users/zy/Desktop/lasso+l0_abrasion_FV/WL_pre_A1.xlsx')\n",
    "df=pd.concat([dfPA,df_preA1],axis=1,ignore_index=True)\n",
    "df.columns=['y_true','y_pre']\n",
    "df\n",
    "df.to_excel('OutputA1.xlsx')"
   ]
  },
  {
   "cell_type": "code",
   "execution_count": 6,
   "metadata": {},
   "outputs": [],
   "source": [
    "df_preA2=pd.read_excel('/Users/zy/Desktop/lasso+l0_abrasion_FV/WL_pre_A2.xlsx')\n",
    "df=pd.concat([dfPA,df_preA2],axis=1,ignore_index=True)\n",
    "df.columns=['y_true','y_pre']\n",
    "df\n",
    "df.to_excel('OutputA2.xlsx')"
   ]
  },
  {
   "cell_type": "code",
   "execution_count": 13,
   "metadata": {},
   "outputs": [],
   "source": [
    "df_preA3=pd.read_excel('/Users/zy/Desktop/lasso+l0_abrasion_FV/WL_pre_A3.xlsx')\n",
    "df=pd.concat([dfPA,df_preA3],axis=1,ignore_index=True)\n",
    "df.columns=['y_true','y_pre']\n",
    "df\n",
    "df.to_excel('OutputA3.xlsx')"
   ]
  },
  {
   "cell_type": "code",
   "execution_count": 10,
   "metadata": {},
   "outputs": [],
   "source": [
    "dfPB = pd.read_csv('/Users/zy/Desktop/lasso+l0_abrasion_FV/groupB.csv',usecols=[\"WL(g)\"])\n",
    "df_preB1=pd.read_excel('/Users/zy/Desktop/lasso+l0_abrasion_FV/WL_pre_B1.xlsx')\n",
    "df=pd.concat([dfPB,df_preB1],axis=1,ignore_index=True)\n",
    "df.columns=['y_true','y_pre']\n",
    "df\n",
    "df.to_excel('OutputB1.xlsx')"
   ]
  },
  {
   "cell_type": "code",
   "execution_count": 11,
   "metadata": {},
   "outputs": [],
   "source": [
    "df_preB2=pd.read_excel('/Users/zy/Desktop/lasso+l0_abrasion_FV/WL_pre_B2.xlsx')\n",
    "df=pd.concat([dfPB,df_preB1],axis=1,ignore_index=True)\n",
    "df.columns=['y_true','y_pre']\n",
    "df\n",
    "df.to_excel('OutputB2.xlsx')"
   ]
  },
  {
   "cell_type": "code",
   "execution_count": 12,
   "metadata": {},
   "outputs": [],
   "source": [
    "df_preB3=pd.read_excel('/Users/zy/Desktop/lasso+l0_abrasion_FV/WL_pre_B3.xlsx')\n",
    "df=pd.concat([dfPB,df_preB1],axis=1,ignore_index=True)\n",
    "df.columns=['y_true','y_pre']\n",
    "df\n",
    "df.to_excel('OutputB3.xlsx')"
   ]
  },
  {
   "cell_type": "code",
   "execution_count": 23,
   "metadata": {},
   "outputs": [],
   "source": [
    "dP_AB=pd.concat([dfPA,dfPB],axis=0,ignore_index=True)\n",
    "df_pre_AB1=pd.read_excel('/Users/zy/Desktop/lasso+l0_abrasion_FV/WL_pre_AB1.xlsx')\n",
    "df=pd.concat([dP_AB,df_pre_AB1],axis=1,ignore_index=True)\n",
    "df.columns=['y_true','y_pre']\n",
    "df.to_excel('Output_(A+B)1.xlsx')\n",
    "\n"
   ]
  },
  {
   "cell_type": "code",
   "execution_count": 24,
   "metadata": {},
   "outputs": [],
   "source": [
    "df_pre_AB2=pd.read_excel('/Users/zy/Desktop/lasso+l0_abrasion_FV/WL_pre_AB2.xlsx')\n",
    "df=pd.concat([dP_AB,df_pre_AB2],axis=1,ignore_index=True)\n",
    "df.columns=['y_true','y_pre']\n",
    "df.to_excel('Output_(A+B)2.xlsx')\n",
    "\n"
   ]
  },
  {
   "cell_type": "code",
   "execution_count": 25,
   "metadata": {},
   "outputs": [],
   "source": [
    "df_pre_AB3=pd.read_excel('/Users/zy/Desktop/lasso+l0_abrasion_FV/WL_pre_AB3.xlsx')\n",
    "df=pd.concat([dP_AB,df_pre_AB3],axis=1,ignore_index=True)\n",
    "df.columns=['y_true','y_pre']\n",
    "df.to_excel('Output_(A+B)3.xlsx')\n",
    "\n"
   ]
  },
  {
   "cell_type": "code",
   "execution_count": null,
   "metadata": {},
   "outputs": [],
   "source": []
  }
 ],
 "metadata": {
  "kernelspec": {
   "display_name": "Python 3",
   "language": "python",
   "name": "python3"
  },
  "language_info": {
   "codemirror_mode": {
    "name": "ipython",
    "version": 3
   },
   "file_extension": ".py",
   "mimetype": "text/x-python",
   "name": "python",
   "nbconvert_exporter": "python",
   "pygments_lexer": "ipython3",
   "version": "3.7.2"
  }
 },
 "nbformat": 4,
 "nbformat_minor": 2
}
