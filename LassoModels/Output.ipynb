{
 "cells": [
  {
   "cell_type": "code",
   "execution_count": 2,
   "metadata": {},
   "outputs": [],
   "source": [
    "import os\n",
    "import pandas as pd\n",
    "import numpy as np\n",
    "import matplotlib.pyplot as plt "
   ]
  },
  {
   "cell_type": "code",
   "execution_count": 3,
   "metadata": {},
   "outputs": [],
   "source": [
    "dfPA = pd.read_csv('/Users/zy/Desktop/lasso+l0_abrasion_FV/groupA.csv',usecols=[\"WL(g)\"])\n",
    "df_preA1=pd.read_excel('/Users/zy/Desktop/lasso+l0_abrasion_FV/WL_pre_A1.xlsx')\n",
    "df=pd.concat([dfPA,df_preA1],axis=1,ignore_index=True)\n",
    "df.columns=['y_true','y_pre']\n",
    "df\n",
    "df.to_excel('OutputA1.xlsx')"
   ]
  },
  {
   "cell_type": "code",
   "execution_count": 4,
   "metadata": {},
   "outputs": [],
   "source": [
    "dfPA = pd.read_csv('/Users/zy/Desktop/lasso+l0_abrasion_FV/groupA.csv',usecols=[\"WL(g)\"])\n",
    "df_preA2=pd.read_excel('/Users/zy/Desktop/lasso+l0_abrasion_FV/WL_pre_A2.xlsx')\n",
    "df=pd.concat([dfPA,df_preA1],axis=1,ignore_index=True)\n",
    "df.columns=['y_true','y_pre']\n",
    "df\n",
    "df.to_excel('OutputA2.xlsx')"
   ]
  },
  {
   "cell_type": "code",
   "execution_count": null,
   "metadata": {},
   "outputs": [],
   "source": []
  }
 ],
 "metadata": {
  "kernelspec": {
   "display_name": "Python 3",
   "language": "python",
   "name": "python3"
  },
  "language_info": {
   "codemirror_mode": {
    "name": "ipython",
    "version": 3
   },
   "file_extension": ".py",
   "mimetype": "text/x-python",
   "name": "python",
   "nbconvert_exporter": "python",
   "pygments_lexer": "ipython3",
   "version": "3.7.2"
  }
 },
 "nbformat": 4,
 "nbformat_minor": 2
}
